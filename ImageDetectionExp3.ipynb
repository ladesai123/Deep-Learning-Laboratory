{
 "cells": [
  {
   "cell_type": "code",
   "execution_count": 1,
   "id": "1aad616e-26e9-497b-bf25-d087eb746005",
   "metadata": {},
   "outputs": [],
   "source": [
    "#!pip install opencv-python"
   ]
  },
  {
   "cell_type": "code",
   "execution_count": 2,
   "id": "ad3fc3ab-f7c7-46c1-a8fb-292b36b4924b",
   "metadata": {},
   "outputs": [],
   "source": [
    "#!pip install scikit-learn"
   ]
  },
  {
   "cell_type": "code",
   "execution_count": 19,
   "id": "584f4846-fbe8-4838-9e77-a8dd648e821c",
   "metadata": {},
   "outputs": [],
   "source": [
    "import os\n",
    "import cv2\n",
    "import xml.etree.ElementTree as ET\n",
    "import numpy as np\n",
    "import torch\n",
    "import torch.nn as nn\n",
    "import torch.optim as optim\n",
    "from torch.utils.data import Dataset, DataLoader\n",
    "from sklearn.model_selection import train_test_split\n",
    "from sklearn.preprocessing import LabelEncoder\n",
    "from torchvision import transforms"
   ]
  },
  {
   "cell_type": "code",
   "execution_count": 20,
   "id": "7e6dee19-67b7-4356-b200-dbe9a19dfe57",
   "metadata": {},
   "outputs": [
    {
     "name": "stdout",
     "output_type": "stream",
     "text": [
      "Using device: cuda:3\n"
     ]
    }
   ],
   "source": [
    "# ==============================================\n",
    "# GPU CONFIGURATION (USING CUDA:3 AS INSTRUCTED)\n",
    "# ==============================================\n",
    "device = torch.device(\"cuda:3\" if torch.cuda.is_available() else \"cpu\")\n",
    "print(f\"Using device: {device}\")"
   ]
  },
  {
   "cell_type": "code",
   "execution_count": 21,
   "id": "a1d8a9a3-77cd-4e05-99c6-66fbeddaf813",
   "metadata": {},
   "outputs": [],
   "source": [
    "# Parse XML file to extract bounding boxes and labels\n",
    "def parse_xml(xml_file):\n",
    "    tree = ET.parse(xml_file)\n",
    "    root = tree.getroot()\n",
    "    boxes, labels = [], []\n",
    "   \n",
    "    for obj in root.findall(\"object\"):\n",
    "        label = obj.find(\"name\").text  # Get class label\n",
    "        bbox = obj.find(\"bndbox\")      # Get bounding box\n",
    "        xmin = int(bbox.find(\"xmin\").text)\n",
    "        ymin = int(bbox.find(\"ymin\").text)\n",
    "        xmax = int(bbox.find(\"xmax\").text)\n",
    "        ymax = int(bbox.find(\"ymax\").text)\n",
    "       \n",
    "        boxes.append([xmin, ymin, xmax, ymax])\n",
    "        labels.append(label)\n",
    "   \n",
    "    return boxes, labels"
   ]
  },
  {
   "cell_type": "code",
   "execution_count": 22,
   "id": "3f0c8d85-105c-4e72-9505-5aa5e0cd12ac",
   "metadata": {},
   "outputs": [],
   "source": [
    "# Load images and their corresponding XML files\n",
    "def load_dataset(folder_path):\n",
    "    images, labels = [], []\n",
    "   \n",
    "    # Loop through the folder and match each image with its XML annotation\n",
    "    for filename in os.listdir(folder_path):\n",
    "        if filename.endswith(\".jpg\"):\n",
    "            img_path = os.path.join(folder_path, filename)\n",
    "            xml_path = os.path.join(folder_path, filename.replace(\".jpg\", \".xml\"))\n",
    "\n",
    "            if os.path.exists(xml_path):\n",
    "                # Load the image and annotation\n",
    "                img = cv2.imread(img_path)\n",
    "                _, label_list = parse_xml(xml_path)\n",
    "\n",
    "                # If multiple labels exist, duplicate the image entry\n",
    "                for label in label_list:\n",
    "                    images.append(img)\n",
    "                    labels.append(label)\n",
    "            else:\n",
    "                print(f\"Warning: XML annotation missing for {filename}\")\n",
    "\n",
    "    return images, labels"
   ]
  },
  {
   "cell_type": "code",
   "execution_count": 23,
   "id": "a64004d6-012d-45e5-b288-1ccbf27352b5",
   "metadata": {},
   "outputs": [],
   "source": [
    "# Provide the path to your dataset folder\n",
    "dataset_path = \"Object detection dataset/Object detection dataset/train/train\"  # Replace with your dataset folder path"
   ]
  },
  {
   "cell_type": "code",
   "execution_count": 24,
   "id": "bd759c70-4609-4b62-b8b2-8b7d67632867",
   "metadata": {},
   "outputs": [],
   "source": [
    "# Load the dataset\n",
    "images, all_labels = load_dataset(dataset_path)"
   ]
  },
  {
   "cell_type": "code",
   "execution_count": 25,
   "id": "7398b8a5-95dc-4b36-9e85-6ef6d1cc918b",
   "metadata": {},
   "outputs": [],
   "source": [
    "# Check if images and labels are aligned\n",
    "assert len(images) == len(all_labels), \"Mismatch between images and labels!\""
   ]
  },
  {
   "cell_type": "code",
   "execution_count": 26,
   "id": "c896d0d4-eccf-4c69-b326-a4a99da7ad74",
   "metadata": {},
   "outputs": [],
   "source": [
    "# Encode labels to numeric format\n",
    "label_encoder = LabelEncoder()\n",
    "encoded_labels = label_encoder.fit_transform(all_labels)"
   ]
  },
  {
   "cell_type": "code",
   "execution_count": 27,
   "id": "b4ad684b-8ecf-48c7-a6f5-a0ef3ab00dde",
   "metadata": {},
   "outputs": [],
   "source": [
    "# One-hot encode the labels\n",
    "num_classes = len(np.unique(encoded_labels))\n",
    "y = np.zeros((len(encoded_labels), num_classes))\n",
    "for i, label in enumerate(encoded_labels):\n",
    "    y[i, label] = 1\n"
   ]
  },
  {
   "cell_type": "code",
   "execution_count": 28,
   "id": "f1dc2c7a-02cf-4e9b-b096-e4b27a03f25a",
   "metadata": {},
   "outputs": [],
   "source": [
    "# Resize images to 224x224 and normalize pixel values\n",
    "X = np.array([cv2.resize(img, (128, 128)) / 255.0 for img in images])"
   ]
  },
  {
   "cell_type": "code",
   "execution_count": 29,
   "id": "632d03a6-2de3-461c-8b79-9f1c61e802dd",
   "metadata": {},
   "outputs": [],
   "source": [
    "# Split the data into training and test sets\n",
    "X_train, X_test, y_train, y_test = train_test_split(X, y, test_size=0.2, random_state=42)"
   ]
  },
  {
   "cell_type": "code",
   "execution_count": 30,
   "id": "dccdd515-992c-4da8-adea-b32719acd41c",
   "metadata": {},
   "outputs": [
    {
     "name": "stdout",
     "output_type": "stream",
     "text": [
      "Training samples: 372, Test samples: 93\n"
     ]
    }
   ],
   "source": [
    "print(f\"Training samples: {len(X_train)}, Test samples: {len(X_test)}\")\n"
   ]
  },
  {
   "cell_type": "code",
   "execution_count": 31,
   "id": "4f461018-5b45-4f3e-94cb-86fefb9b0d48",
   "metadata": {},
   "outputs": [],
   "source": [
    "# Data augmentation for training\n",
    "from tensorflow.keras.preprocessing.image import ImageDataGenerator"
   ]
  },
  {
   "cell_type": "code",
   "execution_count": 32,
   "id": "b953bfe9-3526-4dbb-8706-4a0d6c23c39f",
   "metadata": {},
   "outputs": [],
   "source": [
    "datagen = ImageDataGenerator(rotation_range=20, width_shift_range=2.0,\n",
    "    height_shift_range=2.0 ,zoom_range=0.15, horizontal_flip=True)\n",
    "datagen.fit(X_train)"
   ]
  },
  {
   "cell_type": "code",
   "execution_count": 33,
   "id": "a58a936b-5604-45b4-bbf4-7365ccae5094",
   "metadata": {},
   "outputs": [],
   "source": [
    "# Example Model Definition (Using a Simple CNN)\n",
    "from tensorflow.keras.models import Sequential\n",
    "from tensorflow.keras.layers import Conv2D, MaxPooling2D, Flatten, Dense"
   ]
  },
  {
   "cell_type": "code",
   "execution_count": null,
   "id": "527e21f9-7efd-4ec8-b552-10442f6850d5",
   "metadata": {},
   "outputs": [],
   "source": [
    "model = Sequential([\n",
    "    Conv2D(32, (3, 3), activation='relu', input_shape=(128, 128, 3)),\n",
    "    MaxPooling2D((2, 2)),\n",
    "    Conv2D(64, (3, 3), activation='relu'),\n",
    "    MaxPooling2D((2, 2)),\n",
    "    Flatten(),\n",
    "    Dense(128, activation='relu'),\n",
    "    Dense(num_classes, activation='softmax')\n",
    "])"
   ]
  },
  {
   "cell_type": "code",
   "execution_count": null,
   "id": "f3096a99-d974-411d-ab06-3dc2615096d8",
   "metadata": {},
   "outputs": [],
   "source": [
    "model.compile(optimizer='adam', loss='categorical_crossentropy', metrics=['accuracy'])"
   ]
  },
  {
   "cell_type": "code",
   "execution_count": null,
   "id": "0293e8d1-08c7-477c-8246-cec7cf479d4d",
   "metadata": {},
   "outputs": [],
   "source": []
  }
 ],
 "metadata": {
  "kernelspec": {
   "display_name": "Python 3 (ipykernel)",
   "language": "python",
   "name": "python3"
  },
  "language_info": {
   "codemirror_mode": {
    "name": "ipython",
    "version": 3
   },
   "file_extension": ".py",
   "mimetype": "text/x-python",
   "name": "python",
   "nbconvert_exporter": "python",
   "pygments_lexer": "ipython3",
   "version": "3.12.11"
  }
 },
 "nbformat": 4,
 "nbformat_minor": 5
}
